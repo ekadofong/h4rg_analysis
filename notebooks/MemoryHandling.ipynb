{
 "cells": [
  {
   "cell_type": "code",
   "execution_count": 1,
   "metadata": {},
   "outputs": [],
   "source": [
    "%load_ext autoreload\n",
    "%autoreload 2\n",
    "%load_ext memory_profiler"
   ]
  },
  {
   "cell_type": "code",
   "execution_count": 2,
   "metadata": {},
   "outputs": [],
   "source": [
    "import os\n",
    "from tempfile import mkdtemp\n",
    "import numpy as np\n",
    "import matplotlib.pyplot as plt\n",
    "\n",
    "from ics.hxutils import hxramp\n",
    "\n",
    "from h4rg_analysis import ramputils,io\n",
    "\n",
    "import sys\n",
    "sys.path.append('../scripts/')\n",
    "import do_simpleutr\n",
    "\n",
    "plt.rcParams['figure.figsize'] = (8,8)\n",
    "bestbaselines = open ('../data/paths/best_ever_baseline_darks_8_21_2022.txt', 'r').read().splitlines()[1:]"
   ]
  },
  {
   "cell_type": "code",
   "execution_count": 3,
   "metadata": {},
   "outputs": [],
   "source": [
    "pt = io.jhu2tiger ( bestbaselines[1] )\n",
    "tag = os.path.basename(pt).strip('.fits')"
   ]
  },
  {
   "cell_type": "code",
   "execution_count": 4,
   "metadata": {},
   "outputs": [
    {
     "name": "stdout",
     "output_type": "stream",
     "text": [
      "peak memory: 85.66 MiB, increment: 0.08 MiB\n"
     ]
    }
   ],
   "source": [
    "%%memit -r1\n",
    "ramp = hxramp.HxRamp( pt )"
   ]
  },
  {
   "cell_type": "code",
   "execution_count": 6,
   "metadata": {},
   "outputs": [],
   "source": [
    "r0=0\n",
    "r1=-1\n",
    "tot_ref = io.irpStack_memmap (ramp, r0=r0, r1=r1)"
   ]
  },
  {
   "cell_type": "code",
   "execution_count": 24,
   "metadata": {},
   "outputs": [],
   "source": [
    "i = 3\n",
    "step = 512"
   ]
  },
  {
   "cell_type": "code",
   "execution_count": 25,
   "metadata": {},
   "outputs": [
    {
     "name": "stdout",
     "output_type": "stream",
     "text": [
      "10.173263872\n",
      "peak memory: 11801.79 MiB, increment: 2099.81 MiB\n"
     ]
    }
   ],
   "source": [
    "%%memit -r1\n",
    "ref = tot_ref[:,step*i:step*(i+1),step*i:step*(i+1)]\n",
    "process = psutil.Process(os.getpid())\n",
    "print(process.memory_info().rss/1e9)\n",
    "var, params = do_simpleutr.utrstats ( ref )"
   ]
  },
  {
   "cell_type": "code",
   "execution_count": 21,
   "metadata": {},
   "outputs": [
    {
     "name": "stdout",
     "output_type": "stream",
     "text": [
      "10.171158528\n",
      "peak memory: 11799.99 MiB, increment: 2100.02 MiB\n"
     ]
    }
   ],
   "source": [
    "%%memit -r1\n",
    "ref = tot_ref[:,step*i:step*(i+1),step*i:step*(i+1)]\n",
    "process = psutil.Process(os.getpid())\n",
    "print(process.memory_info().rss/1e9)\n",
    "var, params = do_simpleutr.utrstats ( ref )"
   ]
  },
  {
   "cell_type": "code",
   "execution_count": 13,
   "metadata": {},
   "outputs": [],
   "source": [
    "import psutil"
   ]
  },
  {
   "cell_type": "code",
   "execution_count": 64,
   "metadata": {},
   "outputs": [
    {
     "name": "stdout",
     "output_type": "stream",
     "text": [
      "peak memory: 267.64 MiB, increment: 63.81 MiB\n"
     ]
    }
   ],
   "source": [
    "%%memit -r1\n",
    "for r_i in np.arange(r0, r1+1):\n",
    "    n = ramp._readIdxToFITSIdx ( r_i )\n",
    "    extname = f'REF_{n}'\n",
    "    irpImage = ramp.fits[extname].read ()\n",
    "    irpImage = hxramp.constructFullIrp(irpImage, ramp.nchan, refPix=ramp.interleaveOffset)\n",
    "    fp[r_i] = irpImage\n",
    "    #fp.flush ()\n",
    "    break\n"
   ]
  },
  {
   "cell_type": "code",
   "execution_count": 72,
   "metadata": {},
   "outputs": [
    {
     "name": "stdout",
     "output_type": "stream",
     "text": [
      "0.21372928\n"
     ]
    }
   ],
   "source": [
    "process = psutil.Process(os.getpid())\n",
    "print(process.memory_info().rss/1e9)  # in bytes "
   ]
  },
  {
   "cell_type": "code",
   "execution_count": null,
   "metadata": {},
   "outputs": [],
   "source": []
  }
 ],
 "metadata": {
  "kernelspec": {
   "display_name": "Python 3",
   "language": "python",
   "name": "python3"
  }
 },
 "nbformat": 4,
 "nbformat_minor": 4
}
