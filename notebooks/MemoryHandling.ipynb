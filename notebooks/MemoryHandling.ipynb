{
 "cells": [
  {
   "cell_type": "code",
   "execution_count": 8,
   "metadata": {},
   "outputs": [
    {
     "name": "stdout",
     "output_type": "stream",
     "text": [
      "The autoreload extension is already loaded. To reload it, use:\n",
      "  %reload_ext autoreload\n"
     ]
    }
   ],
   "source": [
    "%load_ext autoreload\n",
    "%autoreload 2\n",
    "%load_ext memory_profiler"
   ]
  },
  {
   "cell_type": "code",
   "execution_count": 10,
   "metadata": {},
   "outputs": [],
   "source": [
    "import os\n",
    "from tempfile import mkdtemp\n",
    "import numpy as np\n",
    "import matplotlib.pyplot as plt\n",
    "\n",
    "from ics.hxutils import hxramp\n",
    "\n",
    "from h4rg_analysis import ramputils,io\n",
    "\n",
    "plt.rcParams['figure.figsize'] = (8,8)\n",
    "bestbaselines = open ('../data/paths/best_ever_baseline_darks_8_21_2022.txt', 'r').read().splitlines()[1:]"
   ]
  },
  {
   "cell_type": "code",
   "execution_count": 7,
   "metadata": {},
   "outputs": [],
   "source": [
    "pt = io.jhu2tiger ( bestbaselines[1] )\n",
    "tag = os.path.basename(pt).strip('.fits')"
   ]
  },
  {
   "cell_type": "code",
   "execution_count": 39,
   "metadata": {},
   "outputs": [
    {
     "name": "stdout",
     "output_type": "stream",
     "text": [
      "peak memory: 9707.54 MiB, increment: 0.01 MiB\n"
     ]
    }
   ],
   "source": [
    "%%memit -r1\n",
    "ramp = hxramp.HxRamp( pt )"
   ]
  },
  {
   "cell_type": "code",
   "execution_count": 16,
   "metadata": {},
   "outputs": [],
   "source": [
    "tempdir = mkdtemp ()\n",
    "tempname = '/'.join([tempdir, 'ramptemp.dat'])"
   ]
  },
  {
   "cell_type": "code",
   "execution_count": 40,
   "metadata": {},
   "outputs": [],
   "source": [
    "fp = np.memmap ( tempname, dtype='u2', mode='w+', shape=(ramp.nreads, ramp.nrows, ramp.ncols ))"
   ]
  },
  {
   "cell_type": "code",
   "execution_count": 20,
   "metadata": {},
   "outputs": [],
   "source": [
    "r0=0\n",
    "r1=-1"
   ]
  },
  {
   "cell_type": "code",
   "execution_count": 21,
   "metadata": {},
   "outputs": [],
   "source": [
    "r0 = ramp._readIdxToAbsoluteIdx ( r0 )\n",
    "r1 = ramp._readIdxToAbsoluteIdx ( r1 )"
   ]
  },
  {
   "cell_type": "code",
   "execution_count": 63,
   "metadata": {},
   "outputs": [],
   "source": [
    "import psutil"
   ]
  },
  {
   "cell_type": "code",
   "execution_count": 64,
   "metadata": {},
   "outputs": [
    {
     "name": "stdout",
     "output_type": "stream",
     "text": [
      "peak memory: 267.64 MiB, increment: 63.81 MiB\n"
     ]
    }
   ],
   "source": [
    "%%memit -r1\n",
    "for r_i in np.arange(r0, r1+1):\n",
    "    n = ramp._readIdxToFITSIdx ( r_i )\n",
    "    extname = f'REF_{n}'\n",
    "    irpImage = ramp.fits[extname].read ()\n",
    "    irpImage = hxramp.constructFullIrp(irpImage, ramp.nchan, refPix=ramp.interleaveOffset)\n",
    "    fp[r_i] = irpImage\n",
    "    #fp.flush ()\n",
    "    break\n"
   ]
  },
  {
   "cell_type": "code",
   "execution_count": 72,
   "metadata": {},
   "outputs": [
    {
     "name": "stdout",
     "output_type": "stream",
     "text": [
      "0.21372928\n"
     ]
    }
   ],
   "source": [
    "process = psutil.Process(os.getpid())\n",
    "print(process.memory_info().rss/1e9)  # in bytes "
   ]
  },
  {
   "cell_type": "code",
   "execution_count": null,
   "metadata": {},
   "outputs": [],
   "source": []
  }
 ],
 "metadata": {
  "kernelspec": {
   "display_name": "Python 3",
   "language": "python",
   "name": "python3"
  },
  "language_info": {
   "codemirror_mode": {
    "name": "ipython",
    "version": 3
   },
   "file_extension": ".py",
   "mimetype": "text/x-python",
   "name": "python",
   "nbconvert_exporter": "python",
   "pygments_lexer": "ipython3",
   "version": "3.7.8"
  }
 },
 "nbformat": 4,
 "nbformat_minor": 4
}
